{
  "nbformat": 4,
  "nbformat_minor": 0,
  "metadata": {
    "colab": {
      "name": "Hierarchical Clustering.ipynb",
      "provenance": []
    },
    "kernelspec": {
      "name": "python3",
      "display_name": "Python 3"
    },
    "language_info": {
      "name": "python"
    }
  },
  "cells": [
    {
      "cell_type": "markdown",
      "source": [
        "# **Hierarchical Clustering**\n",
        "\n",
        "![hierarchical clustering-dendrogram.png](data:image/png;base64,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)"
      ],
      "metadata": {
        "id": "5K_LQVvZVLXn"
      }
    },
    {
      "cell_type": "markdown",
      "source": [
        "## ***IMPORTING LIBRARIES***"
      ],
      "metadata": {
        "id": "pqQMEhGUV4oA"
      }
    },
    {
      "cell_type": "code",
      "execution_count": 10,
      "metadata": {
        "id": "VwbPLoj2VHx4"
      },
      "outputs": [],
      "source": [
        "import numpy as np\n",
        "import pandas as pd"
      ]
    },
    {
      "cell_type": "markdown",
      "source": [
        "## ***LOADING THE DATASET***"
      ],
      "metadata": {
        "id": "61eP9K_YWKPu"
      }
    },
    {
      "cell_type": "code",
      "source": [
        "data = pd.read_csv(\"segmented_customers.csv\")"
      ],
      "metadata": {
        "id": "HqBJIGj6WJH7"
      },
      "execution_count": 11,
      "outputs": []
    },
    {
      "cell_type": "markdown",
      "source": [
        "## ***SUMMARIZING THE DATASET***"
      ],
      "metadata": {
        "id": "-RFS1nGWWlgM"
      }
    },
    {
      "cell_type": "code",
      "source": [
        "print(data.shape)\n",
        "print(data.describe())\n",
        "print(data.head())"
      ],
      "metadata": {
        "colab": {
          "base_uri": "https://localhost:8080/"
        },
        "id": "0Dsh1F4AWkex",
        "outputId": "2593a8f0-c83d-46f5-d268-3d7ce4cd681e"
      },
      "execution_count": 12,
      "outputs": [
        {
          "output_type": "stream",
          "name": "stdout",
          "text": [
            "(200, 6)\n",
            "       CustomerID         Age  ...  Spending Score (1-100)    cluster\n",
            "count  200.000000  200.000000  ...              200.000000  200.00000\n",
            "mean   100.500000   38.850000  ...               50.200000    2.24500\n",
            "std     57.879185   13.969007  ...               25.823522    1.81423\n",
            "min      1.000000   18.000000  ...                1.000000    0.00000\n",
            "25%     50.750000   28.750000  ...               34.750000    1.00000\n",
            "50%    100.500000   36.000000  ...               50.000000    2.00000\n",
            "75%    150.250000   49.000000  ...               73.000000    4.00000\n",
            "max    200.000000   70.000000  ...               99.000000    5.00000\n",
            "\n",
            "[8 rows x 5 columns]\n",
            "   CustomerID  Gender  Age  Annual Income (k$)  Spending Score (1-100)  cluster\n",
            "0           1    Male   19                  15                      39        4\n",
            "1           2    Male   21                  15                      81        3\n",
            "2           3  Female   20                  16                       6        4\n",
            "3           4  Female   23                  16                      77        3\n",
            "4           5  Female   31                  17                      40        4\n"
          ]
        }
      ]
    },
    {
      "cell_type": "markdown",
      "source": [
        "## ***SEGREGRATING AND ZIPPING THE DATASET***"
      ],
      "metadata": {
        "id": "uj7OHRkdW07V"
      }
    },
    {
      "cell_type": "code",
      "source": [
        "input  = data[\"Annual Income (k$)\"].values\n",
        "output = data[\"Spending Score (1-100)\"].values\n",
        "\n",
        "x      = np.array(list(zip(input,output)))\n",
        "x"
      ],
      "metadata": {
        "colab": {
          "base_uri": "https://localhost:8080/"
        },
        "id": "OGSaDWkrXpH0",
        "outputId": "922f4f66-5cb8-431a-e35c-11ca664f70fc"
      },
      "execution_count": 14,
      "outputs": [
        {
          "output_type": "execute_result",
          "data": {
            "text/plain": [
              "array([[ 15,  39],\n",
              "       [ 15,  81],\n",
              "       [ 16,   6],\n",
              "       [ 16,  77],\n",
              "       [ 17,  40],\n",
              "       [ 17,  76],\n",
              "       [ 18,   6],\n",
              "       [ 18,  94],\n",
              "       [ 19,   3],\n",
              "       [ 19,  72],\n",
              "       [ 19,  14],\n",
              "       [ 19,  99],\n",
              "       [ 20,  15],\n",
              "       [ 20,  77],\n",
              "       [ 20,  13],\n",
              "       [ 20,  79],\n",
              "       [ 21,  35],\n",
              "       [ 21,  66],\n",
              "       [ 23,  29],\n",
              "       [ 23,  98],\n",
              "       [ 24,  35],\n",
              "       [ 24,  73],\n",
              "       [ 25,   5],\n",
              "       [ 25,  73],\n",
              "       [ 28,  14],\n",
              "       [ 28,  82],\n",
              "       [ 28,  32],\n",
              "       [ 28,  61],\n",
              "       [ 29,  31],\n",
              "       [ 29,  87],\n",
              "       [ 30,   4],\n",
              "       [ 30,  73],\n",
              "       [ 33,   4],\n",
              "       [ 33,  92],\n",
              "       [ 33,  14],\n",
              "       [ 33,  81],\n",
              "       [ 34,  17],\n",
              "       [ 34,  73],\n",
              "       [ 37,  26],\n",
              "       [ 37,  75],\n",
              "       [ 38,  35],\n",
              "       [ 38,  92],\n",
              "       [ 39,  36],\n",
              "       [ 39,  61],\n",
              "       [ 39,  28],\n",
              "       [ 39,  65],\n",
              "       [ 40,  55],\n",
              "       [ 40,  47],\n",
              "       [ 40,  42],\n",
              "       [ 40,  42],\n",
              "       [ 42,  52],\n",
              "       [ 42,  60],\n",
              "       [ 43,  54],\n",
              "       [ 43,  60],\n",
              "       [ 43,  45],\n",
              "       [ 43,  41],\n",
              "       [ 44,  50],\n",
              "       [ 44,  46],\n",
              "       [ 46,  51],\n",
              "       [ 46,  46],\n",
              "       [ 46,  56],\n",
              "       [ 46,  55],\n",
              "       [ 47,  52],\n",
              "       [ 47,  59],\n",
              "       [ 48,  51],\n",
              "       [ 48,  59],\n",
              "       [ 48,  50],\n",
              "       [ 48,  48],\n",
              "       [ 48,  59],\n",
              "       [ 48,  47],\n",
              "       [ 49,  55],\n",
              "       [ 49,  42],\n",
              "       [ 50,  49],\n",
              "       [ 50,  56],\n",
              "       [ 54,  47],\n",
              "       [ 54,  54],\n",
              "       [ 54,  53],\n",
              "       [ 54,  48],\n",
              "       [ 54,  52],\n",
              "       [ 54,  42],\n",
              "       [ 54,  51],\n",
              "       [ 54,  55],\n",
              "       [ 54,  41],\n",
              "       [ 54,  44],\n",
              "       [ 54,  57],\n",
              "       [ 54,  46],\n",
              "       [ 57,  58],\n",
              "       [ 57,  55],\n",
              "       [ 58,  60],\n",
              "       [ 58,  46],\n",
              "       [ 59,  55],\n",
              "       [ 59,  41],\n",
              "       [ 60,  49],\n",
              "       [ 60,  40],\n",
              "       [ 60,  42],\n",
              "       [ 60,  52],\n",
              "       [ 60,  47],\n",
              "       [ 60,  50],\n",
              "       [ 61,  42],\n",
              "       [ 61,  49],\n",
              "       [ 62,  41],\n",
              "       [ 62,  48],\n",
              "       [ 62,  59],\n",
              "       [ 62,  55],\n",
              "       [ 62,  56],\n",
              "       [ 62,  42],\n",
              "       [ 63,  50],\n",
              "       [ 63,  46],\n",
              "       [ 63,  43],\n",
              "       [ 63,  48],\n",
              "       [ 63,  52],\n",
              "       [ 63,  54],\n",
              "       [ 64,  42],\n",
              "       [ 64,  46],\n",
              "       [ 65,  48],\n",
              "       [ 65,  50],\n",
              "       [ 65,  43],\n",
              "       [ 65,  59],\n",
              "       [ 67,  43],\n",
              "       [ 67,  57],\n",
              "       [ 67,  56],\n",
              "       [ 67,  40],\n",
              "       [ 69,  58],\n",
              "       [ 69,  91],\n",
              "       [ 70,  29],\n",
              "       [ 70,  77],\n",
              "       [ 71,  35],\n",
              "       [ 71,  95],\n",
              "       [ 71,  11],\n",
              "       [ 71,  75],\n",
              "       [ 71,   9],\n",
              "       [ 71,  75],\n",
              "       [ 72,  34],\n",
              "       [ 72,  71],\n",
              "       [ 73,   5],\n",
              "       [ 73,  88],\n",
              "       [ 73,   7],\n",
              "       [ 73,  73],\n",
              "       [ 74,  10],\n",
              "       [ 74,  72],\n",
              "       [ 75,   5],\n",
              "       [ 75,  93],\n",
              "       [ 76,  40],\n",
              "       [ 76,  87],\n",
              "       [ 77,  12],\n",
              "       [ 77,  97],\n",
              "       [ 77,  36],\n",
              "       [ 77,  74],\n",
              "       [ 78,  22],\n",
              "       [ 78,  90],\n",
              "       [ 78,  17],\n",
              "       [ 78,  88],\n",
              "       [ 78,  20],\n",
              "       [ 78,  76],\n",
              "       [ 78,  16],\n",
              "       [ 78,  89],\n",
              "       [ 78,   1],\n",
              "       [ 78,  78],\n",
              "       [ 78,   1],\n",
              "       [ 78,  73],\n",
              "       [ 79,  35],\n",
              "       [ 79,  83],\n",
              "       [ 81,   5],\n",
              "       [ 81,  93],\n",
              "       [ 85,  26],\n",
              "       [ 85,  75],\n",
              "       [ 86,  20],\n",
              "       [ 86,  95],\n",
              "       [ 87,  27],\n",
              "       [ 87,  63],\n",
              "       [ 87,  13],\n",
              "       [ 87,  75],\n",
              "       [ 87,  10],\n",
              "       [ 87,  92],\n",
              "       [ 88,  13],\n",
              "       [ 88,  86],\n",
              "       [ 88,  15],\n",
              "       [ 88,  69],\n",
              "       [ 93,  14],\n",
              "       [ 93,  90],\n",
              "       [ 97,  32],\n",
              "       [ 97,  86],\n",
              "       [ 98,  15],\n",
              "       [ 98,  88],\n",
              "       [ 99,  39],\n",
              "       [ 99,  97],\n",
              "       [101,  24],\n",
              "       [101,  68],\n",
              "       [103,  17],\n",
              "       [103,  85],\n",
              "       [103,  23],\n",
              "       [103,  69],\n",
              "       [113,   8],\n",
              "       [113,  91],\n",
              "       [120,  16],\n",
              "       [120,  79],\n",
              "       [126,  28],\n",
              "       [126,  74],\n",
              "       [137,  18],\n",
              "       [137,  83]])"
            ]
          },
          "metadata": {},
          "execution_count": 14
        }
      ]
    },
    {
      "cell_type": "markdown",
      "source": [
        "## ***FINDING THE OPTIMAL NUMBER OF CLUSTERS USING DENDROGRAM***"
      ],
      "metadata": {
        "id": "ONkl0wm4YOum"
      }
    },
    {
      "cell_type": "code",
      "source": [
        "import scipy.cluster.hierarchy as den\n",
        "import matplotlib.pyplot as plt\n",
        "\n",
        "dendrogram = den.dendrogram(den.linkage(x,method=\"ward\"))\n",
        "plt.title(\"DENDROGRAM\")\n",
        "plt.xlabel(\"CUSTOMERS\")\n",
        "plt.ylabel(\"EUCLIDEAN DISTANCES\")"
      ],
      "metadata": {
        "colab": {
          "base_uri": "https://localhost:8080/",
          "height": 312
        },
        "id": "U3Yt6KXIYGJn",
        "outputId": "f48655c7-bc2f-40ed-ec6b-cf41fffd2751"
      },
      "execution_count": 19,
      "outputs": [
        {
          "output_type": "execute_result",
          "data": {
            "text/plain": [
              "Text(0, 0.5, 'EUCLIDEAN DISTANCES')"
            ]
          },
          "metadata": {},
          "execution_count": 19
        },
        {
          "output_type": "display_data",
          "data": {
            "image/png": "[encoded data removed]",
            "text/plain": [
              "<Figure size 432x288 with 1 Axes>"
            ]
          },
          "metadata": {
            "needs_background": "light"
          }
        }
      ]
    },
    {
      "cell_type": "markdown",
      "source": [
        "## ***TRAINIING THE DATASET AND PREDICTING THE RESULT USING THE OPTIMAL NUMBER OF CLUSTERS BASED ON THE RESULT OF DENDROGRAM***"
      ],
      "metadata": {
        "id": "9gW9qeUwaMSO"
      }
    },
    {
      "cell_type": "code",
      "source": [
        "from sklearn.cluster import AgglomerativeClustering\n",
        "\n",
        "Hierarchical_Model = AgglomerativeClustering(n_clusters=5,affinity=\"euclidean\",linkage=\"ward\")\n",
        "\n",
        "y = Hierarchical_Model.fit_predict(x)"
      ],
      "metadata": {
        "id": "2Hu4gEEXZPk1"
      },
      "execution_count": 20,
      "outputs": []
    },
    {
      "cell_type": "code",
      "source": [
        "y"
      ],
      "metadata": {
        "colab": {
          "base_uri": "https://localhost:8080/"
        },
        "id": "xzU1f0QXdnk-",
        "outputId": "ece7ac97-b3d1-4490-e377-c41aa877b067"
      },
      "execution_count": 21,
      "outputs": [
        {
          "output_type": "execute_result",
          "data": {
            "text/plain": [
              "array([4, 3, 4, 3, 4, 3, 4, 3, 4, 3, 4, 3, 4, 3, 4, 3, 4, 3, 4, 3, 4, 3,\n",
              "       4, 3, 4, 3, 4, 3, 4, 3, 4, 3, 4, 3, 4, 3, 4, 3, 4, 3, 4, 3, 4, 1,\n",
              "       4, 1, 1, 1, 1, 1, 1, 1, 1, 1, 1, 1, 1, 1, 1, 1, 1, 1, 1, 1, 1, 1,\n",
              "       1, 1, 1, 1, 1, 1, 1, 1, 1, 1, 1, 1, 1, 1, 1, 1, 1, 1, 1, 1, 1, 1,\n",
              "       1, 1, 1, 1, 1, 1, 1, 1, 1, 1, 1, 1, 1, 1, 1, 1, 1, 1, 1, 1, 1, 1,\n",
              "       1, 1, 1, 1, 1, 1, 1, 1, 1, 1, 1, 1, 1, 2, 1, 2, 1, 2, 0, 2, 0, 2,\n",
              "       1, 2, 0, 2, 0, 2, 0, 2, 0, 2, 1, 2, 0, 2, 1, 2, 0, 2, 0, 2, 0, 2,\n",
              "       0, 2, 0, 2, 0, 2, 1, 2, 0, 2, 0, 2, 0, 2, 0, 2, 0, 2, 0, 2, 0, 2,\n",
              "       0, 2, 0, 2, 0, 2, 0, 2, 0, 2, 0, 2, 0, 2, 0, 2, 0, 2, 0, 2, 0, 2,\n",
              "       0, 2])"
            ]
          },
          "metadata": {},
          "execution_count": 21
        }
      ]
    },
    {
      "cell_type": "markdown",
      "source": [
        "## ***VISUALIZING THE CLUSTERS***"
      ],
      "metadata": {
        "id": "yxks_h01ezEs"
      }
    },
    {
      "cell_type": "code",
      "source": [
        "plt.scatter(x[y==0,0],x[y==0,1],s=100,label=\"CLUSTER1\")\n",
        "plt.scatter(x[y==1,0],x[y==1,1],s=100,label=\"CLUSTER2\")\n",
        "plt.scatter(x[y==2,0],x[y==2,1],s=100,label=\"CLUSTER3\")\n",
        "plt.scatter(x[y==3,0],x[y==3,1],s=100,label=\"CLUSTER4\")\n",
        "plt.scatter(x[y==4,0],x[y==4,1],s=100,label=\"CLUSTER5\")\n",
        "plt.title(\"CLUSTERS OF CUSTOMERS\")\n",
        "plt.xlabel('Annual Income (k$)')\n",
        "plt.ylabel('Spending Score (1-100)')\n",
        "plt.legend()\n"
      ],
      "metadata": {
        "colab": {
          "base_uri": "https://localhost:8080/",
          "height": 312
        },
        "id": "-gwUzanTdoF7",
        "outputId": "dd8090e4-0aa6-4a88-a9c6-57a3009015d7"
      },
      "execution_count": 39,
      "outputs": [
        {
          "output_type": "execute_result",
          "data": {
            "text/plain": [
              "<matplotlib.legend.Legend at 0x7f8173fe4410>"
            ]
          },
          "metadata": {},
          "execution_count": 39
        },
        {
          "output_type": "display_data",
          "data": {
            "image/png": "[encoded data removed]",
            "text/plain": [
              "<Figure size 432x288 with 1 Axes>"
            ]
          },
          "metadata": {
            "needs_background": "light"
          }
        }
      ]
    }
  ]
}